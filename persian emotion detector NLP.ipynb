{
 "cells": [
  {
   "cell_type": "code",
   "execution_count": 2,
   "id": "3a2d2927",
   "metadata": {},
   "outputs": [],
   "source": [
    "import pandas as pd\n",
    "import numpy as np\n",
    "import tensorflow as tf\n",
    "import keras"
   ]
  },
  {
   "cell_type": "code",
   "execution_count": 3,
   "id": "fdf74dcc",
   "metadata": {},
   "outputs": [],
   "source": [
    "import matplotlib.pyplot as plt\n",
    "import seaborn as sns"
   ]
  },
  {
   "cell_type": "code",
   "execution_count": 4,
   "id": "d1e58f88",
   "metadata": {},
   "outputs": [],
   "source": [
    "from nltk.stem.porter import PorterStemmer\n",
    "from nltk.corpus import stopwords\n",
    "import re"
   ]
  },
  {
   "cell_type": "code",
   "execution_count": 5,
   "id": "5fe53f63",
   "metadata": {},
   "outputs": [],
   "source": [
    "train = pd.read_table('C://Users//Dell_USA//Downloads//ArmanEmo_train.tsv',header=None)\n",
    "test = pd.read_table('C://Users//Dell_USA//Downloads//ArmanEmo_test.tsv',header=None)"
   ]
  },
  {
   "cell_type": "code",
   "execution_count": 6,
   "id": "547f9ef1",
   "metadata": {},
   "outputs": [
    {
     "name": "stdout",
     "output_type": "stream",
     "text": [
      "                                                      0         1\n",
      "0     خیلی کوچیک هستن و سایزشون بدرد نمیخوره میخوام ...       SAD\n",
      "1        از صدای پرنده دم دمای صبح متنفرم متنفرم متنفرم      HATE\n",
      "2      \"کیفیتش خیلی خوبه با شک خریدم ولی واقعا راضیم...       SAD\n",
      "3     چون همش با دوربین ثبت شده ، ایا میشه اعتراض زد...     OTHER\n",
      "4                 اين وضع ب طرز خنده داري گريه داره ...       SAD\n",
      "...                                                 ...       ...\n",
      "6120  مرحوم پیش بینی آبکی زیاد میکرد     مرحوم عجب آ...  SURPRISE\n",
      "6121  کلا عین اعتقادات و توئیت زدناتون ... !!   در ق...     ANGRY\n",
      "6122  خب وقتی میگی کسی بیاد مارو بگیره یارو ترس میکن...      FEAR\n",
      "6123  همون هارو     مگه آهنگ جدیدای خواننده‌های دهه ...  SURPRISE\n",
      "6124                            نیم دگیرش چطور حل نیشد      OTHER\n",
      "\n",
      "[6125 rows x 2 columns]\n"
     ]
    }
   ],
   "source": [
    "print(train)"
   ]
  },
  {
   "cell_type": "code",
   "execution_count": 7,
   "id": "efb8bacc",
   "metadata": {},
   "outputs": [],
   "source": [
    "data = pd.concat([train, test])\n",
    "data.columns = ['text', 'label']"
   ]
  },
  {
   "cell_type": "code",
   "execution_count": 8,
   "id": "fd877dc4",
   "metadata": {},
   "outputs": [
    {
     "data": {
      "text/plain": [
       "(7276, 2)"
      ]
     },
     "execution_count": 8,
     "metadata": {},
     "output_type": "execute_result"
    }
   ],
   "source": [
    "data.shape"
   ]
  },
  {
   "cell_type": "code",
   "execution_count": 9,
   "id": "fc79efb0",
   "metadata": {},
   "outputs": [
    {
     "data": {
      "text/plain": [
       "0"
      ]
     },
     "execution_count": 9,
     "metadata": {},
     "output_type": "execute_result"
    }
   ],
   "source": [
    "data.isna().any(axis=0).sum()"
   ]
  },
  {
   "cell_type": "code",
   "execution_count": 10,
   "id": "45525faf",
   "metadata": {},
   "outputs": [
    {
     "data": {
      "text/html": [
       "<div>\n",
       "<style scoped>\n",
       "    .dataframe tbody tr th:only-of-type {\n",
       "        vertical-align: middle;\n",
       "    }\n",
       "\n",
       "    .dataframe tbody tr th {\n",
       "        vertical-align: top;\n",
       "    }\n",
       "\n",
       "    .dataframe thead th {\n",
       "        text-align: right;\n",
       "    }\n",
       "</style>\n",
       "<table border=\"1\" class=\"dataframe\">\n",
       "  <thead>\n",
       "    <tr style=\"text-align: right;\">\n",
       "      <th></th>\n",
       "      <th>text</th>\n",
       "      <th>label</th>\n",
       "    </tr>\n",
       "  </thead>\n",
       "  <tbody>\n",
       "    <tr>\n",
       "      <th>0</th>\n",
       "      <td>خیلی کوچیک هستن و سایزشون بدرد نمیخوره میخوام ...</td>\n",
       "      <td>SAD</td>\n",
       "    </tr>\n",
       "    <tr>\n",
       "      <th>1</th>\n",
       "      <td>از صدای پرنده دم دمای صبح متنفرم متنفرم متنفرم</td>\n",
       "      <td>HATE</td>\n",
       "    </tr>\n",
       "    <tr>\n",
       "      <th>2</th>\n",
       "      <td>\"کیفیتش خیلی خوبه با شک خریدم ولی واقعا راضیم...</td>\n",
       "      <td>SAD</td>\n",
       "    </tr>\n",
       "    <tr>\n",
       "      <th>3</th>\n",
       "      <td>چون همش با دوربین ثبت شده ، ایا میشه اعتراض زد...</td>\n",
       "      <td>OTHER</td>\n",
       "    </tr>\n",
       "    <tr>\n",
       "      <th>4</th>\n",
       "      <td>اين وضع ب طرز خنده داري گريه داره ...</td>\n",
       "      <td>SAD</td>\n",
       "    </tr>\n",
       "  </tbody>\n",
       "</table>\n",
       "</div>"
      ],
      "text/plain": [
       "                                                text  label\n",
       "0  خیلی کوچیک هستن و سایزشون بدرد نمیخوره میخوام ...    SAD\n",
       "1     از صدای پرنده دم دمای صبح متنفرم متنفرم متنفرم   HATE\n",
       "2   \"کیفیتش خیلی خوبه با شک خریدم ولی واقعا راضیم...    SAD\n",
       "3  چون همش با دوربین ثبت شده ، ایا میشه اعتراض زد...  OTHER\n",
       "4              اين وضع ب طرز خنده داري گريه داره ...    SAD"
      ]
     },
     "execution_count": 10,
     "metadata": {},
     "output_type": "execute_result"
    }
   ],
   "source": [
    "data.head()"
   ]
  },
  {
   "cell_type": "code",
   "execution_count": 11,
   "id": "d09f5015",
   "metadata": {},
   "outputs": [
    {
     "name": "stdout",
     "output_type": "stream",
     "text": [
      "<class 'pandas.core.frame.DataFrame'>\n",
      "Index: 7276 entries, 0 to 1150\n",
      "Data columns (total 2 columns):\n",
      " #   Column  Non-Null Count  Dtype \n",
      "---  ------  --------------  ----- \n",
      " 0   text    7276 non-null   object\n",
      " 1   label   7276 non-null   object\n",
      "dtypes: object(2)\n",
      "memory usage: 170.5+ KB\n"
     ]
    }
   ],
   "source": [
    "data.info()"
   ]
  },
  {
   "cell_type": "code",
   "execution_count": 12,
   "id": "e026a296",
   "metadata": {},
   "outputs": [],
   "source": [
    "ps = PorterStemmer()"
   ]
  },
  {
   "cell_type": "code",
   "execution_count": 13,
   "id": "3584a5e0",
   "metadata": {},
   "outputs": [],
   "source": [
    "stopwords = pd.read_csv('C://Users//Dell_USA//Downloads//stopwords.txt',header=None)"
   ]
  },
  {
   "cell_type": "code",
   "execution_count": 14,
   "id": "51ff03b7",
   "metadata": {},
   "outputs": [],
   "source": [
    "data2 = pd.concat([stopwords])\n",
    "data2.columns = ['text']"
   ]
  },
  {
   "cell_type": "code",
   "execution_count": 15,
   "id": "bed11219",
   "metadata": {},
   "outputs": [],
   "source": [
    "col_one_list = data2['text'].tolist()"
   ]
  },
  {
   "cell_type": "code",
   "execution_count": 16,
   "id": "f0943b49",
   "metadata": {},
   "outputs": [
    {
     "name": "stdout",
     "output_type": "stream",
     "text": [
      "['موضوع تحقیق', 'ارایه گردد', 'نحوه نمایش', 'دوباره\\u200cای', 'خواهیمكرد', 'می توانند', 'می\\u200cتوانند', 'می فرماید', 'می\\u200cفرماید', 'وجود دارد', 'هدف باشیم', 'بنابراین', 'برخوردار', 'نمیمونید', 'ساخته\\u200cام', 'میخواستن', 'نمیگیرند', 'همچنانكه', 'نمیمونید', 'میخواهند', 'می تواند', 'می باشند', 'می\\u200cتواند', 'می\\u200cباشند', 'استفاده', 'میلیارد', 'جلوگیری', 'نمیكنند', 'رابسیار', 'مینوشند', 'نمیاورم', 'رفته\\u200cام', 'اینطوری', 'شده\\u200cاند', 'می شوند', 'می کنند', 'می توان', 'می باشد', 'می\\u200cشوند', 'می\\u200cکنند', 'می\\u200cتوان', 'می\\u200cباشد', 'کمک کند', 'هدف کلی', 'همچنین', 'میلیون', 'درباره', 'بسیاری', 'براساس', 'خواهند', 'توانند', 'نخستین', 'تاكنون', 'برداری', 'بهترین', 'بیشتری', 'داشتند', 'نخواهد', 'دیگران', 'همچنان', 'ندارند', 'روزهای', 'یكدیگر', 'همواره', 'گذاشته', 'نداشته', 'خواهیم', 'بیرونِ', 'پاعینِ', 'نزدیكِ', 'دنبالِ', 'برابرِ', 'مانندِ', 'هنگامِ', 'عنوانِ', 'البتّه', 'وقتیكه', 'هنگامی', 'میكنند', 'همانند', 'پیششون', 'میباشد', 'میگردد', 'درباره', 'میدهیم', 'بینمان', 'مهمتره', 'بیاریم', 'نمیبرد', 'نمیروم', 'شناسید', 'بریزید', 'میكنیم', 'علارغم', 'نمیكنن', 'اینجور', 'میگیره', 'میكنند', 'میشوند', 'می شود', 'می کند', 'می\\u200cشود', 'می\\u200cکند', 'می آید', 'می\\u200cآید', 'این ها', 'این جا', 'این\\u200cها', 'خواهد', 'هستند', 'داشته', 'كردند', 'دارند', 'بیشتر', 'بسیار', 'گرفته', 'تواند', 'اینكه', 'دیروز', 'مختلف', 'گذاری', 'بودند', 'امروز', 'باشند', 'ندارد', 'دیگری', 'اكنون', 'البته', 'مقابل', 'خدمات', 'امسال', 'مانند', 'جریان', 'ساخته', 'نزدیك', 'دانست', 'تمامی', 'ایشان', 'دادند', 'هنگام', 'نباید', 'داریم', 'چگونه', 'خواست', 'هستیم', 'سراسر', 'گروهی', 'آورده', 'نماید', 'باشیم', 'گویند', 'شناسی', 'داشتن', 'همچون', 'نكرده', 'دانند', 'بالای', 'خارجِ', 'كنارِ', 'حدودِ', 'علّتِ', 'كجاست', 'چندین', 'لطفاً', 'مدّتی', 'هممون', 'میكنن', 'هممون', 'نزدیم', 'دارای', 'بشوند', 'یگردی', 'عمدتا', 'آورده', 'وبرای', 'بتوان', 'ندیدی', 'بخوبی', 'بدهید', 'نكنند', 'بوجود', 'میكنم', 'میكند', 'میكنه', 'دونید', 'بگیرم', 'بزنید', 'تونست', 'نداره', 'كردید', 'بودید', 'واقعا', 'هستید', 'اینجا', 'بهشون', 'میكنن', 'میروم', 'اونجا', 'میدهم', 'میداد', 'میدهد', 'كردیم', 'می شد', 'می\\u200cشد', 'آن ها', 'آن جا', 'آن\\u200cها', nan, 'برای', 'كنند', 'دارد', 'كرده', 'باید', 'مورد', 'آنها', 'باشد', 'دیگر', 'مردم', 'صورت', 'هزار', 'نیست', 'داشت', 'داده', 'بوده', 'همین', 'شوند', 'هایی', 'جدید', 'كردن', 'كنیم', 'نشان', 'توسط', 'چنین', 'برخی', 'گیرد', 'گفته', 'آنان', 'گرفت', 'دهند', 'بدون', 'تمام', 'شدند', 'ترین', 'قابل', 'گوید', 'همان', 'آمده', 'طریق', 'گیری', 'هنوز', 'كنید', 'سازی', 'بلكه', 'بودن', 'وقتی', 'یابد', 'تازه', 'آورد', 'آنچه', 'نخست', 'نشده', 'شاید', 'چهار', 'زیرا', 'ریزی', 'گردد', 'كمتر', 'دادن', 'ناشی', 'چیزی', 'آنكه', 'بالا', 'بعضی', 'نبود', 'دیده', 'بندی', 'نوعی', 'آنجا', 'كردم', 'بیست', 'بروز', 'رفته', 'زیاد', 'خویش', 'آباد', 'نظیر', 'باره', 'سابق', 'جایی', 'زیرِ', 'جلوی', 'پیشِ', 'عقبِ', 'وسطِ', 'نزدِ', 'طبقِ', 'ضدِّ', 'مثلِ', 'بارة', 'اثرِ', 'تولِ', 'سمتِ', 'قصدِ', 'چیست', 'چطور', 'كدام', 'بعری', 'هرگز', 'تنها', 'خیاه', 'مرسی', 'كنند', 'خودی', 'وگرد', 'بازم', 'رویم', 'ابدا', 'میگن', 'پراز', 'هشان', 'نریم', 'واسش', 'خاست', 'هایت', 'بشید', 'دچار', 'داره', 'بعدا', 'گرچه', 'میرم', 'باشه', 'شدید', 'نشون', 'رسید', 'دارم', 'بیاد', 'بودم', 'هستن', 'میشه', 'برید', 'بریم', 'وارد', 'یعنی', 'اینا', 'بدان', 'نباش', 'نداد', 'میرن', 'شدیم', 'خودم', 'اونا', 'خیلی', 'نكنه', 'باشم', 'کردن', '0000', 'این', 'است', 'های', 'شود', 'شده', 'خود', 'كرد', 'كند', 'بود', 'گفت', 'نیز', 'اما', 'اند', 'نمی', 'بین', 'پیش', 'اگر', 'همه', 'یکی', 'دهد', 'داد', 'راه', 'سوی', 'روی', 'اول', 'نام', 'هیچ', 'چند', 'بیش', 'شدن', 'حتی', 'ولی', 'دوم', 'بعد', 'شما', 'بار', 'طور', 'چون', 'قبل', 'تحت', 'جای', 'چرا', 'سوم', 'كنم', 'زیر', 'ضمن', 'فقط', 'آید', 'فكر', 'پنج', 'كسی', 'رفت', 'مثل', 'آمد', 'ایم', 'غیر', 'وگو', 'فوق', 'سعی', 'سپس', 'شان', 'هفت', 'سری', 'توی', 'روب', 'جدا', 'هست', 'كجا', 'كَی', 'آیا', 'مگر', 'چیز', 'بله', 'بلی', 'آره', 'آری', 'مان', 'تان', 'كنن', 'ونن', 'مند', 'آخه', 'ماا', 'بشم', 'كنه', 'كنی', 'تون', 'بهم', 'هاش', 'بشی', 'ازش', 'روى', 'بشن', 'بری', 'الی', 'كلی', 'جور', 'اون', 'چیه', 'توش', 'بدم', 'مون', 'شرط', 'كنن', '000', 'های', 'در', 'به', 'از', 'که', 'کن', 'می', 'را', 'با', 'آن', 'یک', 'ها', 'شد', 'ای', 'تا', 'بر', 'وی', 'هم', 'ما', 'یا', 'دو', 'هر', 'او', 'پس', 'بی', 'من', 'چه', 'نه', 'طی', 'كل', 'تر', 'حق', 'اش', 'ام', 'ده', 'شش', 'جز', 'كی', 'یك', 'یک', 'جا', 'كس', 'ور', 'تو', 'را', 'چی', 'گه', 'یه', 'شو', 'رو', 'اه', 'ات', 'نا', '00', 'ره', 'عج', 'ی', 'و', 'ع', 'ص', '۱', '۲', '۳', '۴', '۵', '۶', '۷', '۸', '۹', '۰', 'a', 'b', 'c', 'd', 'e', 't', 'o', 'p', 'x', 'y', 'z']\n"
     ]
    }
   ],
   "source": [
    "print(col_one_list)"
   ]
  },
  {
   "cell_type": "code",
   "execution_count": 17,
   "id": "40d6f485",
   "metadata": {},
   "outputs": [],
   "source": [
    "def preprocess(line):\n",
    "    review = re.sub('[^ا-ی]', ' ', line) \n",
    "    review = review.split() \n",
    "    review = [ps.stem(word) for word in review if not word in col_one_list]\n",
    "    return \" \".join(review)"
   ]
  },
  {
   "cell_type": "code",
   "execution_count": 18,
   "id": "dc2863fd",
   "metadata": {},
   "outputs": [],
   "source": [
    "data['text']=data['text'].apply(lambda x: preprocess(x))"
   ]
  },
  {
   "cell_type": "code",
   "execution_count": 19,
   "id": "41835fbf",
   "metadata": {},
   "outputs": [],
   "source": [
    "from sklearn import preprocessing\n",
    "\n",
    "label_encoder = preprocessing.LabelEncoder()\n",
    "data['N_label'] = label_encoder.fit_transform(data['label'])"
   ]
  },
  {
   "cell_type": "code",
   "execution_count": 20,
   "id": "8c7aec32",
   "metadata": {},
   "outputs": [
    {
     "data": {
      "text/html": [
       "<div>\n",
       "<style scoped>\n",
       "    .dataframe tbody tr th:only-of-type {\n",
       "        vertical-align: middle;\n",
       "    }\n",
       "\n",
       "    .dataframe tbody tr th {\n",
       "        vertical-align: top;\n",
       "    }\n",
       "\n",
       "    .dataframe thead th {\n",
       "        text-align: right;\n",
       "    }\n",
       "</style>\n",
       "<table border=\"1\" class=\"dataframe\">\n",
       "  <thead>\n",
       "    <tr style=\"text-align: right;\">\n",
       "      <th></th>\n",
       "      <th>text</th>\n",
       "      <th>label</th>\n",
       "      <th>N_label</th>\n",
       "    </tr>\n",
       "  </thead>\n",
       "  <tbody>\n",
       "    <tr>\n",
       "      <th>0</th>\n",
       "      <td>کوچیک سایزشون بدرد نمیخوره میخوام</td>\n",
       "      <td>SAD</td>\n",
       "      <td>5</td>\n",
       "    </tr>\n",
       "    <tr>\n",
       "      <th>1</th>\n",
       "      <td>صدای پرنده دم دمای صبح متنفرم متنفرم متنفرم</td>\n",
       "      <td>HATE</td>\n",
       "      <td>3</td>\n",
       "    </tr>\n",
       "    <tr>\n",
       "      <th>2</th>\n",
       "      <td>کیفیتش خوبه شک خریدم راضیم حدود ماه مت سفانه ب...</td>\n",
       "      <td>SAD</td>\n",
       "      <td>5</td>\n",
       "    </tr>\n",
       "    <tr>\n",
       "      <th>3</th>\n",
       "      <td>همش دوربین ثبت ایا اعتراض زد اصن تاثیر کسی اگه...</td>\n",
       "      <td>OTHER</td>\n",
       "      <td>4</td>\n",
       "    </tr>\n",
       "    <tr>\n",
       "      <th>4</th>\n",
       "      <td>اين وضع ب طرز خنده داري گريه</td>\n",
       "      <td>SAD</td>\n",
       "      <td>5</td>\n",
       "    </tr>\n",
       "  </tbody>\n",
       "</table>\n",
       "</div>"
      ],
      "text/plain": [
       "                                                text  label  N_label\n",
       "0                  کوچیک سایزشون بدرد نمیخوره میخوام    SAD        5\n",
       "1        صدای پرنده دم دمای صبح متنفرم متنفرم متنفرم   HATE        3\n",
       "2  کیفیتش خوبه شک خریدم راضیم حدود ماه مت سفانه ب...    SAD        5\n",
       "3  همش دوربین ثبت ایا اعتراض زد اصن تاثیر کسی اگه...  OTHER        4\n",
       "4                       اين وضع ب طرز خنده داري گريه    SAD        5"
      ]
     },
     "execution_count": 20,
     "metadata": {},
     "output_type": "execute_result"
    }
   ],
   "source": [
    "data.head()"
   ]
  },
  {
   "cell_type": "code",
   "execution_count": 21,
   "id": "c6e5c679",
   "metadata": {},
   "outputs": [],
   "source": [
    "from sklearn.feature_extraction.text import CountVectorizer\n",
    "\n",
    "cv = CountVectorizer(max_features=5000,ngram_range=(1,3))\n",
    "\n",
    "data_cv = cv.fit_transform(data['text']).toarray()"
   ]
  },
  {
   "cell_type": "code",
   "execution_count": 22,
   "id": "ce16ca19",
   "metadata": {},
   "outputs": [
    {
     "data": {
      "text/plain": [
       "array([[0, 0, 0, ..., 0, 0, 0],\n",
       "       [0, 0, 0, ..., 0, 0, 0],\n",
       "       [0, 0, 0, ..., 0, 0, 0],\n",
       "       ...,\n",
       "       [0, 0, 0, ..., 0, 0, 0],\n",
       "       [0, 0, 0, ..., 0, 0, 0],\n",
       "       [0, 0, 0, ..., 0, 0, 0]], dtype=int64)"
      ]
     },
     "execution_count": 22,
     "metadata": {},
     "output_type": "execute_result"
    }
   ],
   "source": [
    "data_cv"
   ]
  },
  {
   "cell_type": "code",
   "execution_count": 23,
   "id": "df9faed0",
   "metadata": {},
   "outputs": [],
   "source": [
    "from sklearn.model_selection import train_test_split\n",
    "X_train, X_test, y_train, y_test =train_test_split(data_cv, data['N_label'], test_size=0.25, random_state=42)"
   ]
  },
  {
   "cell_type": "code",
   "execution_count": 24,
   "id": "9deccae5",
   "metadata": {},
   "outputs": [
    {
     "name": "stderr",
     "output_type": "stream",
     "text": [
      "C:\\Users\\Dell_USA\\anaconda3\\Lib\\site-packages\\keras\\src\\layers\\core\\dense.py:87: UserWarning: Do not pass an `input_shape`/`input_dim` argument to a layer. When using Sequential models, prefer using an `Input(shape)` object as the first layer in the model instead.\n",
      "  super().__init__(activity_regularizer=activity_regularizer, **kwargs)\n"
     ]
    },
    {
     "name": "stdout",
     "output_type": "stream",
     "text": [
      "Epoch 1/10\n",
      "\u001b[1m546/546\u001b[0m \u001b[32m━━━━━━━━━━━━━━━━━━━━\u001b[0m\u001b[37m\u001b[0m \u001b[1m6s\u001b[0m 5ms/step - accuracy: 0.3219 - loss: 1.7605\n",
      "Epoch 2/10\n",
      "\u001b[1m546/546\u001b[0m \u001b[32m━━━━━━━━━━━━━━━━━━━━\u001b[0m\u001b[37m\u001b[0m \u001b[1m3s\u001b[0m 5ms/step - accuracy: 0.7703 - loss: 0.7218\n",
      "Epoch 3/10\n",
      "\u001b[1m546/546\u001b[0m \u001b[32m━━━━━━━━━━━━━━━━━━━━\u001b[0m\u001b[37m\u001b[0m \u001b[1m3s\u001b[0m 5ms/step - accuracy: 0.9084 - loss: 0.3196\n",
      "Epoch 4/10\n",
      "\u001b[1m546/546\u001b[0m \u001b[32m━━━━━━━━━━━━━━━━━━━━\u001b[0m\u001b[37m\u001b[0m \u001b[1m3s\u001b[0m 5ms/step - accuracy: 0.9520 - loss: 0.1755\n",
      "Epoch 5/10\n",
      "\u001b[1m546/546\u001b[0m \u001b[32m━━━━━━━━━━━━━━━━━━━━\u001b[0m\u001b[37m\u001b[0m \u001b[1m3s\u001b[0m 5ms/step - accuracy: 0.9648 - loss: 0.1170\n",
      "Epoch 6/10\n",
      "\u001b[1m546/546\u001b[0m \u001b[32m━━━━━━━━━━━━━━━━━━━━\u001b[0m\u001b[37m\u001b[0m \u001b[1m3s\u001b[0m 5ms/step - accuracy: 0.9710 - loss: 0.0959\n",
      "Epoch 7/10\n",
      "\u001b[1m546/546\u001b[0m \u001b[32m━━━━━━━━━━━━━━━━━━━━\u001b[0m\u001b[37m\u001b[0m \u001b[1m3s\u001b[0m 5ms/step - accuracy: 0.9759 - loss: 0.0720\n",
      "Epoch 8/10\n",
      "\u001b[1m546/546\u001b[0m \u001b[32m━━━━━━━━━━━━━━━━━━━━\u001b[0m\u001b[37m\u001b[0m \u001b[1m3s\u001b[0m 5ms/step - accuracy: 0.9740 - loss: 0.0710\n",
      "Epoch 9/10\n",
      "\u001b[1m546/546\u001b[0m \u001b[32m━━━━━━━━━━━━━━━━━━━━\u001b[0m\u001b[37m\u001b[0m \u001b[1m3s\u001b[0m 5ms/step - accuracy: 0.9777 - loss: 0.0608\n",
      "Epoch 10/10\n",
      "\u001b[1m546/546\u001b[0m \u001b[32m━━━━━━━━━━━━━━━━━━━━\u001b[0m\u001b[37m\u001b[0m \u001b[1m3s\u001b[0m 5ms/step - accuracy: 0.9780 - loss: 0.0564\n",
      "\u001b[1m171/171\u001b[0m \u001b[32m━━━━━━━━━━━━━━━━━━━━\u001b[0m\u001b[37m\u001b[0m \u001b[1m1s\u001b[0m 3ms/step - accuracy: 0.9781 - loss: 0.0593\n",
      "Accuracy: 98.08\n"
     ]
    }
   ],
   "source": [
    "from tensorflow.keras.models import Sequential\n",
    "from tensorflow.keras.layers import Dense\n",
    "model = Sequential()\n",
    "model.add(Dense(64, input_shape=(X_train.shape[1],), activation='relu'))\n",
    "model.add(Dense(32, activation='relu'))\n",
    "model.add(Dense(7, activation='softmax'))\n",
    "\n",
    "model.compile(loss='sparse_categorical_crossentropy', optimizer='adam', metrics=['accuracy'])\n",
    "\n",
    "model.fit(X_train, y_train, epochs=10, batch_size=10)\n",
    "\n",
    "_, accuracy = model.evaluate(X_train, y_train)\n",
    "print('Accuracy: %.2f' % (accuracy*100))"
   ]
  },
  {
   "cell_type": "code",
   "execution_count": 41,
   "id": "ab70e879",
   "metadata": {},
   "outputs": [
    {
     "name": "stdout",
     "output_type": "stream",
     "text": [
      "\u001b[1m57/57\u001b[0m \u001b[32m━━━━━━━━━━━━━━━━━━━━\u001b[0m\u001b[37m\u001b[0m \u001b[1m0s\u001b[0m 2ms/step - accuracy: 0.5066 - loss: 3.2774\n",
      "Accuracy: 50.96\n"
     ]
    }
   ],
   "source": [
    "_, accuracy = model.evaluate(X_test, y_test)\n",
    "print('Accuracy: %.2f' % (accuracy*100))"
   ]
  },
  {
   "cell_type": "code",
   "execution_count": 32,
   "id": "6cdc0c10",
   "metadata": {},
   "outputs": [
    {
     "name": "stdout",
     "output_type": "stream",
     "text": [
      "\u001b[1m1/1\u001b[0m \u001b[32m━━━━━━━━━━━━━━━━━━━━\u001b[0m\u001b[37m\u001b[0m \u001b[1m0s\u001b[0m 31ms/step\n"
     ]
    },
    {
     "data": {
      "text/plain": [
       "'HAPPY'"
      ]
     },
     "execution_count": 32,
     "metadata": {},
     "output_type": "execute_result"
    }
   ],
   "source": [
    "text='عالی بود'\n",
    "text=preprocess(text)\n",
    "array = cv.transform([text]).toarray()\n",
    "pred = model.predict(array)\n",
    "a=np.argmax(pred, axis=1)\n",
    "label_encoder.inverse_transform(a)[0]"
   ]
  },
  {
   "cell_type": "code",
   "execution_count": 47,
   "id": "602864ee",
   "metadata": {},
   "outputs": [
    {
     "name": "stderr",
     "output_type": "stream",
     "text": [
      "WARNING:absl:You are saving your model as an HDF5 file via `model.save()` or `keras.saving.save_model(model)`. This file format is considered legacy. We recommend using instead the native Keras format, e.g. `model.save('my_model.keras')` or `keras.saving.save_model(model, 'my_model.keras')`. \n"
     ]
    }
   ],
   "source": [
    "tf.keras.models.save_model(model,'my_persian_model.h5')"
   ]
  },
  {
   "cell_type": "code",
   "execution_count": 48,
   "id": "1993c487",
   "metadata": {},
   "outputs": [],
   "source": [
    "import pickle\n",
    "pickle.dump(label_encoder, open('encoder.pkl', 'wb'))\n",
    "pickle.dump(cv, open('CountVectorizer.pkl', 'wb'))"
   ]
  },
  {
   "cell_type": "code",
   "execution_count": null,
   "id": "a29df8ae",
   "metadata": {},
   "outputs": [],
   "source": []
  }
 ],
 "metadata": {
  "kernelspec": {
   "display_name": "Python 3 (ipykernel)",
   "language": "python",
   "name": "python3"
  },
  "language_info": {
   "codemirror_mode": {
    "name": "ipython",
    "version": 3
   },
   "file_extension": ".py",
   "mimetype": "text/x-python",
   "name": "python",
   "nbconvert_exporter": "python",
   "pygments_lexer": "ipython3",
   "version": "3.11.7"
  }
 },
 "nbformat": 4,
 "nbformat_minor": 5
}
